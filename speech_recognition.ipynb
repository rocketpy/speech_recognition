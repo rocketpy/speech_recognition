{
 "cells": [
  {
   "cell_type": "code",
   "execution_count": null,
   "metadata": {},
   "outputs": [],
   "source": [
    "#  https://pypi.org/project/SpeechRecognition/\n",
    "#  https://pypi.org/project/PyAudio/\n",
    "\n",
    "#  pip install SpeechRecognition\n",
    "#  pip install PyAudio"
   ]
  },
  {
   "cell_type": "code",
   "execution_count": null,
   "metadata": {},
   "outputs": [],
   "source": [
    "import webbrowser as wb  # webbrowser is part of the python standard library !\n",
    "import speech_recognition as sr"
   ]
  },
  {
   "cell_type": "code",
   "execution_count": null,
   "metadata": {},
   "outputs": [],
   "source": [
    "rec1 = sr.Recognizer()\n",
    "rec2 = sr.Recognizer()\n",
    "rec3 = sr.Recognizer()\n",
    "\n",
    "with sr.Microphone as src:\n",
    "    print('[search ... , search ... ]')\n",
    "    print('Speak now pls')\n",
    "    audio = rec3.listen(src)\n",
    "if '...' in rec2.recognize_google(audio):\n",
    "    rec2 = sr.Recognizer()\n",
    "    url = ''\n",
    "    with sr.Microphone() as src:\n",
    "        print('Searching a your query')\n",
    "        audio = rec2.listen(src)\n",
    "        try:\n",
    "            get = rec2.recognize_google(audio)\n",
    "            print(get)\n",
    "            wb.get().open_new(url+get)\n",
    "        except sr.UnknownValueError:\n",
    "            print('Error')\n",
    "        except sr.RequestError as e:\n",
    "            print('Error'.format(e))"
   ]
  },
  {
   "cell_type": "code",
   "execution_count": null,
   "metadata": {},
   "outputs": [],
   "source": [
    "import speech_recognition as sr\n",
    "\n",
    "\n",
    "r = sr.Recognizer()\n",
    "with sr.Microphone as source:\n",
    "    print(\"Hello world\")\n",
    "    audio = r.listen(source)\n",
    "\n",
    "try:\n",
    "    text = r.recognize_google(audio)\n",
    "    print(\"Your text is : \", text)\n",
    "except:\n",
    "    print(\"Some error\")"
   ]
  },
  {
   "cell_type": "code",
   "execution_count": null,
   "metadata": {},
   "outputs": [],
   "source": [
    "#  using audio file\n",
    "import speech_recognition as sr\n",
    "\n",
    "\n",
    "r = sr.Recognizer()\n",
    "with sr.Microphone as source:\n",
    "    print(\"Hello world\")\n",
    "    audio = r.listen(source)\n",
    "\n",
    "with open(\"file_name.wav\", \"wb\") as file:\n",
    "    file.write(audio.get_wav_data())\n",
    "\n",
    "# for flac file\n",
    "\"\"\"\n",
    "with open(\"file_name.flac\", \"wb\") as file:\n",
    "    file.write(audio.get_flac_data())\n",
    "\"\"\""
   ]
  },
  {
   "cell_type": "code",
   "execution_count": null,
   "metadata": {},
   "outputs": [],
   "source": [
    "import sys\n",
    "# import pyaudio\n",
    "import speech_recognition as sr\n",
    "\n",
    "r = sr.Recognizer()\n",
    "file_name = sys.argv[1]\n",
    "\n",
    "with sr.AudioFile(file_name) as file:\n",
    "    audio = r.listen(file)\n",
    "    \n",
    "try:\n",
    "    print(\"Result is :\" + r.recognize_google(audio))\n",
    "except Exception:\n",
    "    print(\"Ooops some error\")"
   ]
  },
  {
   "cell_type": "code",
   "execution_count": null,
   "metadata": {},
   "outputs": [],
   "source": [
    "import sys\n",
    "import speech_recognition as sr\n",
    "\n",
    "\n",
    "rec = sr.Recognizer()\n",
    "\n",
    "if len(sys.argv)==2:\n",
    "    file_name = sys.argv[1]\n",
    "    with sr.AudioFile(file_name) as file:\n",
    "        audio = rec.listen(file)\n",
    "else:\n",
    "    with sr.Microphone() as src:\n",
    "        audio = rec.listen(src)\n",
    "try:\n",
    "    print(rec.recognize_google(audio))\n",
    "except Exception:\n",
    "    print(\"Ooops error\")"
   ]
  }
 ],
 "metadata": {
  "kernelspec": {
   "display_name": "Python 3",
   "language": "python",
   "name": "python3"
  },
  "language_info": {
   "codemirror_mode": {
    "name": "ipython",
    "version": 3
   },
   "file_extension": ".py",
   "mimetype": "text/x-python",
   "name": "python",
   "nbconvert_exporter": "python",
   "pygments_lexer": "ipython3",
   "version": "3.6.2"
  }
 },
 "nbformat": 4,
 "nbformat_minor": 2
}
