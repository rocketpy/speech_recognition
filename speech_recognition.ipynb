{
 "cells": [
  {
   "cell_type": "code",
   "execution_count": null,
   "metadata": {},
   "outputs": [],
   "source": [
    "#  https://pypi.org/project/SpeechRecognition/\n",
    "#  https://pypi.org/project/PyAudio/\n",
    "\n",
    "#  pip install SpeechRecognition\n",
    "#  pip install PyAudio"
   ]
  },
  {
   "cell_type": "code",
   "execution_count": null,
   "metadata": {},
   "outputs": [],
   "source": [
    "import webbrowser as wb  # webbrowser is part of the python standard library !\n",
    "import speech_recognition as sr"
   ]
  },
  {
   "cell_type": "code",
   "execution_count": null,
   "metadata": {},
   "outputs": [],
   "source": [
    "rec1 = sr.Recognizer()\n",
    "rec2 = sr.Recognizer()\n",
    "rec3 = sr.Recognizer()\n",
    "\n",
    "with sr.Microphone as src:\n",
    "    print('[search ... , search ... ]')\n",
    "    print('Speak now pls')\n",
    "    audio = rec3.listen(src)\n",
    "if '...' in rec2.recognize_google(audio):\n",
    "    rec2 = sr.Recognizer()\n",
    "    url = ''\n",
    "    with sr.Microphone() as src:\n",
    "        print('Searching a your query')\n",
    "        audio = rec2.listen(src)\n",
    "        try:\n",
    "            get = rec2.recognize_google(audio)\n",
    "            print(get)\n",
    "            wb.get().open_new(url+get)\n",
    "        except sr.UnknownValueError:\n",
    "            print('Error')\n",
    "        except sr.RequestError as e:\n",
    "            print('Error'.format(e))"
   ]
  }
 ],
 "metadata": {
  "kernelspec": {
   "display_name": "Python 3",
   "language": "python",
   "name": "python3"
  },
  "language_info": {
   "codemirror_mode": {
    "name": "ipython",
    "version": 3
   },
   "file_extension": ".py",
   "mimetype": "text/x-python",
   "name": "python",
   "nbconvert_exporter": "python",
   "pygments_lexer": "ipython3",
   "version": "3.6.2"
  }
 },
 "nbformat": 4,
 "nbformat_minor": 2
}
